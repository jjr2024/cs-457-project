{
 "cells": [
  {
   "cell_type": "code",
   "execution_count": 28,
   "metadata": {},
   "outputs": [],
   "source": [
    "import pandas as pd\n",
    "from sklearn.model_selection import train_test_split\n",
    "import seaborn as sns\n",
    "import numpy as np\n",
    "import matplotlib.pyplot as plt\n",
    "import requests\n",
    "import json \n",
    "import os"
   ]
  },
  {
   "cell_type": "code",
   "execution_count": 50,
   "metadata": {},
   "outputs": [
    {
     "name": "stdout",
     "output_type": "stream",
     "text": [
      "                            Date       Close Ticker  OneMonthChange  \\\n",
      "0      1999-11-18 00:00:00-05:00   26.652401      A        4.403417   \n",
      "1      1999-11-19 00:00:00-05:00   24.456602      A       16.099074   \n",
      "2      1999-11-22 00:00:00-05:00   26.652401      A        5.965871   \n",
      "3      1999-11-23 00:00:00-05:00   24.229450      A       18.906221   \n",
      "4      1999-11-24 00:00:00-05:00   24.873049      A       21.156744   \n",
      "...                          ...         ...    ...             ...   \n",
      "92411  2024-04-25 00:00:00-04:00  246.339996    ADP             NaN   \n",
      "92412  2024-04-26 00:00:00-04:00  243.070007    ADP             NaN   \n",
      "92413  2024-04-29 00:00:00-04:00  243.949997    ADP             NaN   \n",
      "92414  2024-04-30 00:00:00-04:00  241.889999    ADP             NaN   \n",
      "92415  2024-05-01 00:00:00-04:00  247.330002    ADP             NaN   \n",
      "\n",
      "       ThreeMonthChange  Result  \n",
      "0             86.079527       0  \n",
      "1            100.619218       1  \n",
      "2            120.454482       1  \n",
      "3            134.375012       1  \n",
      "4            122.831040       1  \n",
      "...                 ...     ...  \n",
      "92411               NaN       0  \n",
      "92412               NaN       0  \n",
      "92413               NaN       0  \n",
      "92414               NaN       0  \n",
      "92415               NaN       0  \n",
      "\n",
      "[92416 rows x 6 columns]\n"
     ]
    }
   ],
   "source": [
    "\"\"\"\n",
    "\n",
    "Extract data from CSV files in \"Prices\" folder and combine into a single Pandas dataframe with ticker, date, price, 1-month price change (%), and 3-month price change (%).\n",
    "\n",
    "\"\"\"\n",
    "\n",
    "# Defines path to files containing price information (just the \"Prices\" folder)\n",
    "folder_path = \"Prices\"\n",
    "\n",
    "# Initialize an empty list to store the dataframes\n",
    "dataframes = []\n",
    "\n",
    "# Iterate over each file in the folder\n",
    "for filename in os.listdir(folder_path):\n",
    "    if filename.endswith(\".csv\"):  # Check if the file is a CSV\n",
    "        file_path = os.path.join(folder_path, filename)  # Get the path to the file\n",
    "        \n",
    "        # Read the CSV file into a pandas dataframe\n",
    "        df = pd.read_csv(file_path)\n",
    "\n",
    "        # Add a new column containing the company ticker, which we extract from the filename\n",
    "        filename_wo_extension = os.path.splitext(filename)[0]\n",
    "        df['Ticker'] = filename_wo_extension\n",
    "\n",
    "        condition_one_month = df['Ticker'].shift(-20) == df['Ticker']\n",
    "        df.loc[condition_one_month, 'OneMonthChange'] = (df['Close'].shift(-20) - df['Close']) / df['Close'] * 100\n",
    "\n",
    "        condition_three_month = df['Ticker'].shift(-60) == df['Ticker']\n",
    "        df['ThreeMonthChange'] = (df['Close'].shift(-60) - df['Close']) / df['Close'] * 100\n",
    "        \n",
    "        #Creating our y column, Result\n",
    "        df['Result'] = 0  # Init the column with zeros\n",
    "        one_month_threshold = 5\n",
    "        three_month_threshold = 10\n",
    "\n",
    "        df.loc[(df['OneMonthChange'] > one_month_threshold) & (df['ThreeMonthChange'] > three_month_threshold), 'Result'] = 1\n",
    "        df.loc[(df['OneMonthChange'] < -one_month_threshold) & (df['ThreeMonthChange'] < -three_month_threshold), 'Result'] = -1\n",
    "        \n",
    "        # Append the DataFrame to the list\n",
    "        dataframes.append(df)\n",
    "\n",
    "# Concatenate all the DataFrames in the list into a single DataFrame\n",
    "prices_df = pd.concat(dataframes, ignore_index=True)\n",
    "\n",
    "# Be careful--the below filters out any features not specified so adding a feature above won't show up if you don't modify the below line.\n",
    "prices_df = prices_df[[\"Date\", \"Close\", \"Ticker\", \"OneMonthChange\", \"ThreeMonthChange\", \"Result\"]]\n",
    "\n",
    "# prices_df has all the CSV files' contents in a single DataFrame\n",
    "print(prices_df)"
   ]
  },
  {
   "cell_type": "markdown",
   "metadata": {},
   "source": [
    "Need to merge prices with earnings transcript data here."
   ]
  },
  {
   "cell_type": "code",
   "execution_count": 51,
   "metadata": {},
   "outputs": [
    {
     "name": "stderr",
     "output_type": "stream",
     "text": [
      "c:\\Users\\james\\anaconda3\\envs\\ml-0451\\lib\\site-packages\\huggingface_hub\\file_download.py:1132: FutureWarning: `resume_download` is deprecated and will be removed in version 1.0.0. Downloads always resume when possible. If you want to force a new download, use `force_download=True`.\n",
      "  warnings.warn(\n",
      "Some weights of BertForSequenceClassification were not initialized from the model checkpoint at bert-base-uncased and are newly initialized: ['classifier.bias', 'classifier.weight']\n",
      "You should probably TRAIN this model on a down-stream task to be able to use it for predictions and inference.\n"
     ]
    }
   ],
   "source": [
    "from transformers import BertTokenizer, BertForSequenceClassification, Trainer, TrainingArguments\n",
    "from sklearn.model_selection import train_test_split\n",
    "\n",
    "#Will have some placeholder at first to test this\n",
    "texts = [\"good test\", \"bad test\"]\n",
    "\n",
    "#Make label.\n",
    "prices_df[\"Label\"] = 1\n",
    "df.loc[(df['Result'] < 1), 'Label'] = 0\n",
    "\n",
    "# Split data into training and validation sets\n",
    "\n",
    "# Load pre-trained BERT tokenizer\n",
    "tokenizer = BertTokenizer.from_pretrained('bert-base-uncased')\n",
    "\n",
    "# Tokenize texts\n",
    "\n",
    "# Convert labels to tensors\n",
    "\n",
    "# Load pre-trained BERT model for sequence classification\n",
    "model = BertForSequenceClassification.from_pretrained('bert-base-uncased', num_labels=2)  # For now, will assume binary classification\n",
    "\n",
    "# Need to define training arguments here \n",
    "\n",
    "# Need to define the trainer here\n",
    "\n",
    "# Need to fine-tune BERT on our data here\n",
    "#trainer.train()\n",
    "\n",
    "# Need to evaluate our work here\n",
    "#trainer.evaluate()\n"
   ]
  },
  {
   "cell_type": "code",
   "execution_count": 32,
   "metadata": {},
   "outputs": [],
   "source": [
    "from itertools import combinations\n",
    "from sklearn.linear_model import LogisticRegression\n",
    "\n",
    "#LR = LogisticRegression(max_iter=1000)\n",
    "\n",
    "#Below is extremely straightforward logistic regression code to train the model on the quantitative outputs BERT pumps out\n",
    "#LR.fit(X_train[cols], y_train)\n",
    "#print(LR.score(X_train[cols], y_train))"
   ]
  }
 ],
 "metadata": {
  "kernelspec": {
   "display_name": "ml-0451",
   "language": "python",
   "name": "python3"
  },
  "language_info": {
   "codemirror_mode": {
    "name": "ipython",
    "version": 3
   },
   "file_extension": ".py",
   "mimetype": "text/x-python",
   "name": "python",
   "nbconvert_exporter": "python",
   "pygments_lexer": "ipython3",
   "version": "3.9.18"
  }
 },
 "nbformat": 4,
 "nbformat_minor": 2
}
