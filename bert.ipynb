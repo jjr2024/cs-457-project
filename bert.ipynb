{
 "cells": [
  {
   "cell_type": "markdown",
   "metadata": {},
   "source": [
    "This file contains a prelim BERT fine tuning implementation with the Adam algo for optimization (basically fancy gradient descent)"
   ]
  },
  {
   "cell_type": "code",
   "execution_count": 33,
   "metadata": {},
   "outputs": [],
   "source": [
    "from sklearn.model_selection import train_test_split\n",
    "import numpy as np\n",
    "import requests\n",
    "import json \n",
    "\n",
    "import pandas as pd\n",
    "import torch\n",
    "from torch.utils.data import TensorDataset, DataLoader\n",
    "from transformers import BertTokenizer, BertForSequenceClassification, AdamW"
   ]
  },
  {
   "cell_type": "markdown",
   "metadata": {},
   "source": [
    "We load an example csv with \"label\" and \"text\" columns. Then it fine-tunes BERT on that data."
   ]
  },
  {
   "cell_type": "code",
   "execution_count": 34,
   "metadata": {},
   "outputs": [],
   "source": [
    "df_data = pd.read_csv(\"test_text.csv\")"
   ]
  },
  {
   "cell_type": "markdown",
   "metadata": {},
   "source": [
    "0 corresponds to 0 (neutral). 1 corresponds to -1 (bad). 2 corresponds to 1 (good)"
   ]
  },
  {
   "cell_type": "code",
   "execution_count": 37,
   "metadata": {},
   "outputs": [
    {
     "name": "stderr",
     "output_type": "stream",
     "text": [
      "Some weights of BertForSequenceClassification were not initialized from the model checkpoint at bert-base-uncased and are newly initialized: ['classifier.bias', 'classifier.weight']\n",
      "You should probably TRAIN this model on a down-stream task to be able to use it for predictions and inference.\n"
     ]
    },
    {
     "name": "stdout",
     "output_type": "stream",
     "text": [
      "Epoch 1/3, Average Training Loss: 0.9035760164260864\n",
      "Epoch 2/3, Average Training Loss: 2.1034080386161804\n",
      "Epoch 3/3, Average Training Loss: 1.3249844312667847\n"
     ]
    }
   ],
   "source": [
    "#All key inputs up here\n",
    "num_labels = 3  # Number of labels (right now it's neutral 0, bad 1, good 2)\n",
    "MAX_LENGTH = 128\n",
    "batch_size = 10 # Number for minibatch training here\n",
    "num_epochs = 3 # Number of training epochs\n",
    "\n",
    "# Load pre-trained BERT tokenizer\n",
    "tokenizer = BertTokenizer.from_pretrained('bert-base-uncased')\n",
    "\n",
    "# Define the device we want to use\n",
    "device = torch.device(\"cuda\" if torch.cuda.is_available() else \"cpu\")\n",
    "\n",
    "# Step 1: Preprocessing the data\n",
    "# Tokenize the text data\n",
    "tokenized_texts = []\n",
    "labels = []\n",
    "for i, row in df_data.iterrows():\n",
    "    tokenized_text = tokenizer.encode(row['text'], add_special_tokens=True, max_length=512, truncation=True)\n",
    "    tokenized_texts.append(tokenized_text)\n",
    "    labels.append(row['label'])\n",
    "\n",
    "# Define the label mapping\n",
    "label_map = {0: 0, -1: 1, 1: 2}\n",
    "\n",
    "# Change labels to be consistent with label mapping above\n",
    "labels = [label_map[label] for label in labels]\n",
    "\n",
    "# Step 2: Create dataloader\n",
    "\n",
    "input_ids = torch.tensor([tokenized_text[:MAX_LENGTH] + [0] * (MAX_LENGTH - len(tokenized_text[:MAX_LENGTH])) for tokenized_text in tokenized_texts])\n",
    "labels = torch.tensor(labels)\n",
    "\n",
    "# Create dataloader\n",
    "\n",
    "data = TensorDataset(input_ids, labels)\n",
    "dataloader = DataLoader(data, batch_size=batch_size, shuffle=True)\n",
    "\n",
    "# Step 3: Define the BERT model for sequence classification\n",
    "model = BertForSequenceClassification.from_pretrained('bert-base-uncased', num_labels=num_labels)\n",
    "model.to(device)  # Move the model to the right device\n",
    "\n",
    "# Step 4: Define the optimizer\n",
    "optimizer = AdamW(model.parameters(), lr=0.001)\n",
    "\n",
    "# Step 5: Training loop\n",
    "for epoch in range(num_epochs):\n",
    "    model.train()\n",
    "    total_loss = 0\n",
    "    for batch in dataloader:\n",
    "        batch = tuple(t.to(device) for t in batch)\n",
    "        input_ids, labels = batch\n",
    "\n",
    "        optimizer.zero_grad()\n",
    "        outputs = model(input_ids, labels=labels)\n",
    "        loss = outputs.loss\n",
    "        total_loss += loss.item()\n",
    "\n",
    "        loss.backward()\n",
    "        optimizer.step()\n",
    "\n",
    "    avg_train_loss = total_loss / len(dataloader)\n",
    "    print(f\"Epoch {epoch+1}/{num_epochs}, Average Training Loss: {avg_train_loss}\")\n",
    "\n",
    "# Step 6: Define a prediction function\n",
    "def predict(text):\n",
    "    # Tokenize the input text\n",
    "    tokenized_text = tokenizer.encode(text, add_special_tokens=True, max_length=512, truncation=True)\n",
    "    \n",
    "    # Convert tokenized input to tensor and move it to the device\n",
    "    input_ids = torch.tensor(tokenized_text).unsqueeze(0).to(device)\n",
    "    \n",
    "    # Set the model to eval mode\n",
    "    model.eval()\n",
    "    \n",
    "    # Apparently turning off grad saves memory and computation\n",
    "    with torch.no_grad():\n",
    "        # Give model the inputs\n",
    "        outputs = model(input_ids)\n",
    "        \n",
    "        # Get the logits from the model's output\n",
    "        logits = outputs.logits\n",
    "        \n",
    "        # Calculate the probabilities using softmax\n",
    "        probabilities = torch.softmax(logits, dim=-1).squeeze(0)\n",
    "        \n",
    "        # Get the predicted label\n",
    "        predicted_label = torch.argmax(probabilities).item()\n",
    "        \n",
    "        # Return the predicted label and its probability\n",
    "        return predicted_label, probabilities[predicted_label].item()"
   ]
  },
  {
   "cell_type": "code",
   "execution_count": 38,
   "metadata": {},
   "outputs": [
    {
     "name": "stdout",
     "output_type": "stream",
     "text": [
      "Predicted Label: 1, Probability: 0.6080817580223083\n"
     ]
    }
   ],
   "source": [
    "# Example usage:\n",
    "text = \"terrible awful unexpected gurdns\" #used fake word gurdns in -1 labeled training data to make sure training is actually working\n",
    "predicted_label, probability = predict(text)\n",
    "print(f\"Predicted Label: {predicted_label}, Probability: {probability}\")"
   ]
  }
 ],
 "metadata": {
  "kernelspec": {
   "display_name": "ml-0451",
   "language": "python",
   "name": "python3"
  },
  "language_info": {
   "codemirror_mode": {
    "name": "ipython",
    "version": 3
   },
   "file_extension": ".py",
   "mimetype": "text/x-python",
   "name": "python",
   "nbconvert_exporter": "python",
   "pygments_lexer": "ipython3",
   "version": "3.9.18"
  }
 },
 "nbformat": 4,
 "nbformat_minor": 2
}
