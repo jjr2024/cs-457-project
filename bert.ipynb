{
 "cells": [
  {
   "cell_type": "markdown",
   "metadata": {},
   "source": [
    "This file contains a prelim BERT fine tuning implementation with the Adam algo for optimization (basically fancy gradient descent)"
   ]
  },
  {
   "cell_type": "code",
   "execution_count": 112,
   "metadata": {},
   "outputs": [],
   "source": [
    "from sklearn.model_selection import train_test_split\n",
    "import numpy as np\n",
    "import requests\n",
    "import json \n",
    "\n",
    "import pandas as pd\n",
    "import torch\n",
    "from torch.utils.data import TensorDataset, DataLoader\n",
    "from transformers import BertTokenizer, BertForSequenceClassification, AdamW"
   ]
  },
  {
   "cell_type": "markdown",
   "metadata": {},
   "source": [
    "We load an example csv with \"label\" and \"text\" columns. Then it fine-tunes BERT on that data."
   ]
  },
  {
   "cell_type": "code",
   "execution_count": 113,
   "metadata": {},
   "outputs": [],
   "source": [
    "#df_data = pd.read_csv(\"test_text.csv\")"
   ]
  },
  {
   "cell_type": "code",
   "execution_count": 142,
   "metadata": {},
   "outputs": [],
   "source": [
    "df_data = pd.read_json(\"prelim-data.json\")\n",
    "\n",
    "X = df_data.drop(columns=['label'])\n",
    "y = df_data['label']\n",
    "\n",
    "# Split the data into training and testing sets\n",
    "X_train, X_test, y_train, y_test = train_test_split(X, y, test_size=0.2, random_state=42)\n",
    "\n",
    "df_train = X_train.join(y_train)\n",
    "\n"
   ]
  },
  {
   "cell_type": "markdown",
   "metadata": {},
   "source": [
    "0 corresponds to 0 (neutral). 1 corresponds to -1 (bad). 2 corresponds to 1 (good)"
   ]
  },
  {
   "cell_type": "code",
   "execution_count": 143,
   "metadata": {},
   "outputs": [
    {
     "name": "stderr",
     "output_type": "stream",
     "text": [
      "c:\\Users\\james\\anaconda3\\envs\\ml-0451\\lib\\site-packages\\huggingface_hub\\file_download.py:1132: FutureWarning: `resume_download` is deprecated and will be removed in version 1.0.0. Downloads always resume when possible. If you want to force a new download, use `force_download=True`.\n",
      "  warnings.warn(\n",
      "Some weights of BertForSequenceClassification were not initialized from the model checkpoint at bert-base-uncased and are newly initialized: ['classifier.bias', 'classifier.weight']\n",
      "You should probably TRAIN this model on a down-stream task to be able to use it for predictions and inference.\n",
      "c:\\Users\\james\\anaconda3\\envs\\ml-0451\\lib\\site-packages\\transformers\\optimization.py:521: FutureWarning: This implementation of AdamW is deprecated and will be removed in a future version. Use the PyTorch implementation torch.optim.AdamW instead, or set `no_deprecation_warning=True` to disable this warning\n",
      "  warnings.warn(\n"
     ]
    },
    {
     "name": "stdout",
     "output_type": "stream",
     "text": [
      "Epoch 1/40, Average Training Loss: 1.0919163227081299\n",
      "Epoch 2/40, Average Training Loss: 1.0466260612010956\n",
      "Epoch 3/40, Average Training Loss: 0.9444463849067688\n",
      "Epoch 4/40, Average Training Loss: 0.9714152216911316\n",
      "Epoch 5/40, Average Training Loss: 0.936492383480072\n",
      "Epoch 6/40, Average Training Loss: 0.9065832197666168\n",
      "Epoch 7/40, Average Training Loss: 0.8538501858711243\n",
      "Epoch 8/40, Average Training Loss: 0.8783121705055237\n",
      "Epoch 9/40, Average Training Loss: 0.8767186403274536\n",
      "Epoch 10/40, Average Training Loss: 0.8046156167984009\n",
      "Epoch 11/40, Average Training Loss: 0.6115048825740814\n",
      "Epoch 12/40, Average Training Loss: 0.5217722654342651\n",
      "Epoch 13/40, Average Training Loss: 0.42679503560066223\n",
      "Epoch 14/40, Average Training Loss: 0.4116516262292862\n",
      "Epoch 15/40, Average Training Loss: 0.3496115654706955\n",
      "Epoch 16/40, Average Training Loss: 0.2995358556509018\n",
      "Epoch 17/40, Average Training Loss: 0.25498688966035843\n",
      "Epoch 18/40, Average Training Loss: 0.2298404909670353\n",
      "Epoch 19/40, Average Training Loss: 0.1857931837439537\n",
      "Epoch 20/40, Average Training Loss: 0.14714426174759865\n",
      "Epoch 21/40, Average Training Loss: 0.10405730083584785\n",
      "Epoch 22/40, Average Training Loss: 0.10066086612641811\n",
      "Epoch 23/40, Average Training Loss: 0.080351697281003\n",
      "Epoch 24/40, Average Training Loss: 0.05924810469150543\n",
      "Epoch 25/40, Average Training Loss: 0.05503613315522671\n",
      "Epoch 26/40, Average Training Loss: 0.042896535247564316\n",
      "Epoch 27/40, Average Training Loss: 0.03841191716492176\n",
      "Epoch 28/40, Average Training Loss: 0.03268963471055031\n",
      "Epoch 29/40, Average Training Loss: 0.030588248744606972\n",
      "Epoch 30/40, Average Training Loss: 0.02571956440806389\n",
      "Epoch 31/40, Average Training Loss: 0.020288611762225628\n",
      "Epoch 32/40, Average Training Loss: 0.02052612043917179\n",
      "Epoch 33/40, Average Training Loss: 0.018655353225767612\n",
      "Epoch 34/40, Average Training Loss: 0.0182059733197093\n",
      "Epoch 35/40, Average Training Loss: 0.016127184499055147\n",
      "Epoch 36/40, Average Training Loss: 0.014263990335166454\n",
      "Epoch 37/40, Average Training Loss: 0.012741794344037771\n",
      "Epoch 38/40, Average Training Loss: 0.012605265714228153\n",
      "Epoch 39/40, Average Training Loss: 0.011301963124424219\n",
      "Epoch 40/40, Average Training Loss: 0.011763816233724356\n"
     ]
    }
   ],
   "source": [
    "#All key inputs up here\n",
    "num_labels = 3  # Number of labels (right now it's neutral 0, bad 1, good 2)\n",
    "MAX_LENGTH = 128\n",
    "batch_size = 5  # Number for minibatch training here\n",
    "num_epochs = 40 # Number of training epochs\n",
    "\n",
    "# Load pre-trained BERT tokenizer\n",
    "tokenizer = BertTokenizer.from_pretrained('bert-base-uncased')\n",
    "\n",
    "# Define the device we want to use\n",
    "device = torch.device(\"cuda\" if torch.cuda.is_available() else \"cpu\")\n",
    "\n",
    "# Step 1: Preprocessing the data\n",
    "# Tokenize the text data\n",
    "tokenized_texts = []\n",
    "labels = []\n",
    "for i, row in df_train.iterrows():\n",
    "    tokenized_text = tokenizer.encode(row['text'], add_special_tokens=True, max_length=512, truncation=True)\n",
    "    tokenized_texts.append(tokenized_text)\n",
    "    labels.append(row['label'])\n",
    "\n",
    "# Define the label mapping\n",
    "label_map = {0: 0, -1: 1, 1: 2}\n",
    "\n",
    "# Change labels to be consistent with label mapping above\n",
    "labels = [label_map[label] for label in labels]\n",
    "\n",
    "# Step 2: Create dataloader\n",
    "input_ids = torch.tensor([tokenized_text[:MAX_LENGTH] + [0] * (MAX_LENGTH - len(tokenized_text[:MAX_LENGTH])) for tokenized_text in tokenized_texts])\n",
    "labels = torch.tensor(labels)\n",
    "\n",
    "# Create dataloader\n",
    "data = TensorDataset(input_ids, labels)\n",
    "dataloader = DataLoader(data, batch_size=batch_size, shuffle=True)\n",
    "\n",
    "# Step 3: Define the BERT model for sequence classification\n",
    "model = BertForSequenceClassification.from_pretrained('bert-base-uncased', num_labels=num_labels)\n",
    "model.to(device)  # Move the model to the right device\n",
    "\n",
    "# Step 4: Define the optimizer\n",
    "optimizer = AdamW(model.parameters(), lr=0.00003)\n",
    "\n",
    "# Step 5: Training loop\n",
    "for epoch in range(num_epochs):\n",
    "    model.train()\n",
    "    total_loss = 0\n",
    "    for batch in dataloader:\n",
    "        batch = tuple(t.to(device) for t in batch)\n",
    "        input_ids, labels = batch\n",
    "\n",
    "        optimizer.zero_grad()\n",
    "        outputs = model(input_ids, labels=labels)\n",
    "        loss = outputs.loss\n",
    "        total_loss += loss.item()\n",
    "\n",
    "        loss.backward()\n",
    "        optimizer.step()\n",
    "\n",
    "    avg_train_loss = total_loss / len(dataloader)\n",
    "    print(f\"Epoch {epoch+1}/{num_epochs}, Average Training Loss: {avg_train_loss}\")\n",
    "\n",
    "# Step 6: Define a prediction function\n",
    "def predict(text):\n",
    "    # Tokenize the input text\n",
    "    tokenized_text = tokenizer.encode(text, add_special_tokens=True, max_length = 512, truncation=True)\n",
    "    \n",
    "    # Convert tokenized input to tensor and move it to the device\n",
    "    input_ids = torch.tensor(tokenized_text).unsqueeze(0).to(device)\n",
    "    \n",
    "    # Set the model to eval mode\n",
    "    model.eval()\n",
    "    \n",
    "    # Apparently turning off grad saves memory and computation\n",
    "    with torch.no_grad():\n",
    "        # Give model the inputs\n",
    "        outputs = model(input_ids)\n",
    "        \n",
    "        # Get the logits from the model's output\n",
    "        logits = outputs.logits\n",
    "        \n",
    "        # Calculate the probabilities using softmax\n",
    "        probabilities = torch.softmax(logits, dim=-1).squeeze(0)\n",
    "        \n",
    "        # Get the predicted label\n",
    "        predicted_label = torch.argmax(probabilities).item()\n",
    "        \n",
    "        # Return the predicted label and probabilities\n",
    "        return probabilities, predicted_label"
   ]
  },
  {
   "cell_type": "code",
   "execution_count": 153,
   "metadata": {},
   "outputs": [],
   "source": [
    "# Assuming model is your trained model\n",
    "# Initialize a list to store the predictions\n",
    "predictions_label0 = []\n",
    "predictions_label1 = []\n",
    "predictions_label2 = []\n",
    "predictions_predict = []\n",
    "# Iterate over each observation in X_test\n",
    "\n",
    "def getBERTScores(df):\n",
    "    predictions_label0 = []\n",
    "    predictions_label1 = []\n",
    "    predictions_label2 = []\n",
    "    predictions_predict = []\n",
    "\n",
    "    for index, row in df.iterrows():\n",
    "        predictions = predict(row[\"text\"])\n",
    "        \n",
    "        # Append the prediction to the list\n",
    "        #print(predictions)\n",
    "        #print(predictions[0])\n",
    "        predictions_label0.append(predictions[0][0])\n",
    "        predictions_label1.append(predictions[0][1])\n",
    "        predictions_label2.append(predictions[0][2])\n",
    "        predictions_predict.append(predictions[1])\n",
    "\n",
    "    # Add the predictions as a new feature to X_test\n",
    "    rev_label_map = {0: 0, 1: -1, 2: 1}\n",
    "    predictions_predict = [rev_label_map[label] for label in predictions_predict]\n",
    "\n",
    "    df['neutral'] = predictions_label0\n",
    "    df['bad'] = predictions_label1\n",
    "    df['good'] = predictions_label2\n",
    "    df[\"predict\"] = predictions_predict\n",
    "\n",
    "\n",
    "for index, row in X_test.iterrows():\n",
    "    predictions = predict(row[\"text\"])\n",
    "    \n",
    "    # Append the prediction to the list\n",
    "    #print(predictions)\n",
    "    #print(predictions[0])\n",
    "    predictions_label0.append(predictions[0][0])\n",
    "    predictions_label1.append(predictions[0][1])\n",
    "    predictions_label2.append(predictions[0][2])\n",
    "    predictions_predict.append(predictions[1])\n",
    "\n",
    "# Add the predictions as a new feature to X_test\n",
    "rev_label_map = {0: 0, 1: -1, 2: 1}\n",
    "predictions_predict = [rev_label_map[label] for label in predictions_predict]\n",
    "\n",
    "X_test['neutral'] = predictions_label0\n",
    "X_test['bad'] = predictions_label1\n",
    "X_test['good'] = predictions_label2\n",
    "X_test[\"predict\"] = predictions_predict\n",
    "\n",
    "\n",
    "# Now X_test contains the original features along with the predicted labels as a new feature\n"
   ]
  },
  {
   "cell_type": "code",
   "execution_count": 150,
   "metadata": {},
   "outputs": [
    {
     "name": "stdout",
     "output_type": "stream",
     "text": [
      "                                                 text         neutral  \\\n",
      "10  Brian Nowak Morgan Stanley Thanks for taking m...  tensor(0.0160)   \n",
      "9   Eric Sheridan Goldman Sachs Thank you very muc...  tensor(0.0134)   \n",
      "0   Brian Nowak Morgan Stanley Great thanks for ta...  tensor(0.0203)   \n",
      "\n",
      "               bad            good  predict  \n",
      "10  tensor(0.8972)  tensor(0.0868)       -1  \n",
      "9   tensor(0.9387)  tensor(0.0479)       -1  \n",
      "0   tensor(0.9457)  tensor(0.0340)       -1  \n",
      "10    1\n",
      "9     1\n",
      "0    -1\n",
      "Name: label, dtype: int64\n"
     ]
    },
    {
     "data": {
      "text/plain": [
       "0.3333333333333333"
      ]
     },
     "execution_count": 150,
     "metadata": {},
     "output_type": "execute_result"
    }
   ],
   "source": [
    "print(X_test)\n",
    "print(y_test)\n",
    "\n",
    "(X_test[\"predict\"] == y_test).mean()"
   ]
  },
  {
   "cell_type": "code",
   "execution_count": 165,
   "metadata": {},
   "outputs": [
    {
     "name": "stdout",
     "output_type": "stream",
     "text": [
      "                                                 text         neutral  \\\n",
      "8   Doug Anmuth JP Morgan Thanks for taking the qu...  tensor(0.0107)   \n",
      "5   Eric Sheridan Goldman Sachs Thank you very muc...  tensor(0.0210)   \n",
      "2   Brian Nowak Morgan Stanley Thanks for taking m...  tensor(0.0248)   \n",
      "1   Brian Nowak Morgan Stanley Great Thanks for ta...  tensor(0.0606)   \n",
      "11  Brian Nowak Morgan Stanley Thanks for taking m...  tensor(0.0169)   \n",
      "4   Brian Nowak Morgan Stanley Thanks for taking m...  tensor(0.0132)   \n",
      "7   Brian Nowak Morgan Stanley Thanks for taking m...  tensor(0.0137)   \n",
      "3   Brian Nowak Morgan Stanley Great Thanks for ta...  tensor(0.0159)   \n",
      "6   Doug Anmuth JP Morgan Great Thank you Hopefull...  tensor(0.0185)   \n",
      "\n",
      "               bad            good  predict  \n",
      "8   tensor(0.9441)  tensor(0.0452)       -1  \n",
      "5   tensor(0.8388)  tensor(0.1402)       -1  \n",
      "2   tensor(0.5846)  tensor(0.3907)       -1  \n",
      "1   tensor(0.7574)  tensor(0.1820)       -1  \n",
      "11  tensor(0.4634)  tensor(0.5197)        1  \n",
      "4   tensor(0.9612)  tensor(0.0256)       -1  \n",
      "7   tensor(0.9166)  tensor(0.0697)       -1  \n",
      "3   tensor(0.5689)  tensor(0.4152)       -1  \n",
      "6   tensor(0.8335)  tensor(0.1480)       -1  \n",
      "8    -1\n",
      "5    -1\n",
      "2     1\n",
      "1     0\n",
      "11    1\n",
      "4    -1\n",
      "7    -1\n",
      "3     1\n",
      "6     1\n",
      "Name: label, dtype: int64\n"
     ]
    },
    {
     "data": {
      "text/plain": [
       "0.5555555555555556"
      ]
     },
     "execution_count": 165,
     "metadata": {},
     "output_type": "execute_result"
    }
   ],
   "source": [
    "print(X_train)\n",
    "print(y_train)\n",
    "\n",
    "(X_train[\"predict\"] == y_train).mean()"
   ]
  },
  {
   "cell_type": "code",
   "execution_count": 161,
   "metadata": {},
   "outputs": [
    {
     "name": "stdout",
     "output_type": "stream",
     "text": [
      "8     tensor(0.0107)\n",
      "5     tensor(0.0210)\n",
      "2     tensor(0.0248)\n",
      "1     tensor(0.0606)\n",
      "11    tensor(0.0169)\n",
      "4     tensor(0.0132)\n",
      "7     tensor(0.0137)\n",
      "3     tensor(0.0159)\n",
      "6     tensor(0.0185)\n",
      "Name: neutral, dtype: object\n",
      "0.7777777777777778\n",
      "0.3333333333333333\n"
     ]
    }
   ],
   "source": [
    "getBERTScores(X_train)\n",
    "from sklearn.linear_model import LogisticRegression\n",
    "LR = LogisticRegression(max_iter=100)\n",
    "print(X_train[\"neutral\"])\n",
    "LR.fit(X_train[[\"neutral\", \"good\", \"bad\"]], y_train)\n",
    "print(LR.score(X_train[[\"neutral\", \"good\", \"bad\"]], y_train))\n",
    "getBERTScores(X_test)\n",
    "print(LR.score(X_test[[\"neutral\", \"good\", \"bad\"]], y_test))"
   ]
  },
  {
   "cell_type": "code",
   "execution_count": null,
   "metadata": {},
   "outputs": [],
   "source": []
  }
 ],
 "metadata": {
  "kernelspec": {
   "display_name": "ml-0451",
   "language": "python",
   "name": "python3"
  },
  "language_info": {
   "codemirror_mode": {
    "name": "ipython",
    "version": 3
   },
   "file_extension": ".py",
   "mimetype": "text/x-python",
   "name": "python",
   "nbconvert_exporter": "python",
   "pygments_lexer": "ipython3",
   "version": "3.9.18"
  }
 },
 "nbformat": 4,
 "nbformat_minor": 2
}
